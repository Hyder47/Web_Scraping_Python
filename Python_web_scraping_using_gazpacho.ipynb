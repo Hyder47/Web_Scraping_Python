{
 "cells": [
  {
   "cell_type": "markdown",
   "metadata": {},
   "source": [
    "### Imports Defined"
   ]
  },
  {
   "cell_type": "code",
   "execution_count": null,
   "metadata": {},
   "outputs": [],
   "source": [
    "from datetime import datetime\n",
    "from dateutil import relativedelta\n",
    "import DBcm\n",
    "from gazpacho import get,Soup\n",
    "from ordered_set import OrderedSet\n",
    "import re"
   ]
  },
  {
   "cell_type": "markdown",
   "metadata": {},
   "source": [
    "### Website to be scraped"
   ]
  },
  {
   "cell_type": "code",
   "execution_count": null,
   "metadata": {},
   "outputs": [],
   "source": [
    "URL = \"https://en.wikipedia.org/wiki/Taoiseach\""
   ]
  },
  {
   "cell_type": "code",
   "execution_count": null,
   "metadata": {},
   "outputs": [],
   "source": [
    "html = get(URL)"
   ]
  },
  {
   "cell_type": "code",
   "execution_count": null,
   "metadata": {},
   "outputs": [],
   "source": [
    "soup = Soup(html)"
   ]
  },
  {
   "cell_type": "code",
   "execution_count": null,
   "metadata": {},
   "outputs": [],
   "source": [
    "tables = soup.find('table')"
   ]
  },
  {
   "cell_type": "code",
   "execution_count": null,
   "metadata": {},
   "outputs": [],
   "source": [
    "for n, t in enumerate(tables):\n",
    "    if t.attrs['class'] == \"wikitable\":\n",
    "        nrows = t.find(\"tr\")\n",
    "        if isinstance(nrows, list):\n",
    "            print(f\"Table {n} has {len(nrows)} rows.\")\n",
    "        else:\n",
    "            print(f\"Table {n} is of type: {type(nrows)}.\")"
   ]
  },
  {
   "cell_type": "code",
   "execution_count": null,
   "metadata": {},
   "outputs": [],
   "source": [
    "data = tables[2]"
   ]
  },
  {
   "cell_type": "code",
   "execution_count": null,
   "metadata": {},
   "outputs": [],
   "source": [
    "rows = data.find('tr')"
   ]
  },
  {
   "cell_type": "markdown",
   "metadata": {},
   "source": [
    "### Function to convert Soup object into list"
   ]
  },
  {
   "cell_type": "code",
   "execution_count": null,
   "metadata": {},
   "outputs": [],
   "source": [
    "def soup_to_list(text):\n",
    "    \n",
    "    new_list = []\n",
    "    new_list.append(text)\n",
    "    \n",
    "    return new_list"
   ]
  },
  {
   "cell_type": "markdown",
   "metadata": {},
   "source": [
    "### Function to scrape inner URL"
   ]
  },
  {
   "cell_type": "code",
   "execution_count": null,
   "metadata": {},
   "outputs": [],
   "source": [
    "def inner_url_bday_fetch(name):\n",
    "    \n",
    "    address = 'https://en.wikipedia.org/'    \n",
    "    search_str = name.find('a',mode='first')\n",
    "    split_val = str(search_str).split('\"')\n",
    "    inner_url_val =  ''.join([address,split_val[1]])\n",
    "    \n",
    "    html_inner = get(inner_url_val)\n",
    "    soup_inner = Soup(html_inner)\n",
    "    \n",
    "    table_inner = soup_inner.find('table')\n",
    "    \n",
    "    for t in table_inner:\n",
    "        if t.attrs['class'] == \"infobox vcard\":\n",
    "            nrows_inner = t.find(\"tr\")\n",
    "            \n",
    "            for i in nrows_inner:\n",
    "                result = i.find('span',{'class':'bday'})\n",
    "                \n",
    "                if not isinstance(result,list):\n",
    "                    bday_value = result.text#.replace('-',' ')\n",
    "                    \n",
    "                    bday_value_formatted = datetime.strptime(bday_value, '%Y-%m-%d')\n",
    "    \n",
    "    return bday_value_formatted"
   ]
  },
  {
   "cell_type": "markdown",
   "metadata": {},
   "source": [
    "### Function to get the Constituency name"
   ]
  },
  {
   "cell_type": "code",
   "execution_count": null,
   "metadata": {},
   "outputs": [],
   "source": [
    "def constituency_fetch(name):\n",
    "    \n",
    "    a_list = name.find('a')    \n",
    "    constituency_list = []\n",
    "    del a_list[0]\n",
    "    \n",
    "    for i in a_list :\n",
    "        val = re.findall(r'(?<=title=\")[^(]*',str(i))\n",
    "        val_in_string = val[0].strip()\n",
    "        constituency_list.append(val_in_string)\n",
    "        \n",
    "    if len(constituency_list) > 1:\n",
    "        constituency = ', '.join(constituency_list)\n",
    "        \n",
    "    else:\n",
    "        constituency = constituency_list[0]\n",
    "        \n",
    "    return constituency"
   ]
  },
  {
   "cell_type": "markdown",
   "metadata": {},
   "source": [
    "### Function to extract the date vales"
   ]
  },
  {
   "cell_type": "code",
   "execution_count": null,
   "metadata": {},
   "outputs": [],
   "source": [
    "def extract_year(start_day,start_year,end_day,end_year):\n",
    "    \n",
    "    search_str = '<br />'\n",
    "    year_values = []\n",
    "    if not end_day == 'Incumbent':\n",
    "        html_row_list = [str(start_year),str(end_year)]\n",
    "    \n",
    "        for i in html_row_list:\n",
    "            start_ind = i.find(search_str) + len(search_str)\n",
    "            end_ind = start_ind + 4\n",
    "            year_values.append(i[start_ind:end_ind])\n",
    "        \n",
    "        term_start_date = ' '.join([start_day,year_values[0]])\n",
    "        term_end_date = ' '.join([end_day,year_values[1]])\n",
    "    \n",
    "        term_start_date_formatted = datetime.strptime(term_start_date, '%d %B %Y')\n",
    "        term_start_end_formatted = datetime.strptime(term_end_date, '%d %B %Y')\n",
    "        \n",
    "    else:\n",
    "        html_row_list = str(start_year)\n",
    "        \n",
    "        start_ind = html_row_list.find(search_str) + len(search_str)\n",
    "        end_ind = start_ind + 4\n",
    "        year_value = html_row_list[start_ind:end_ind]\n",
    "        \n",
    "        term_start_date = ' '.join([start_day,year_value])\n",
    "        \n",
    "        term_start_date_formatted = datetime.strptime(term_start_date, '%d %B %Y')\n",
    "        term_start_end_formatted = datetime.today()\n",
    "        \n",
    "    return term_start_date_formatted, term_start_end_formatted"
   ]
  },
  {
   "cell_type": "markdown",
   "metadata": {},
   "source": [
    "### Scraping the data from the URL and storing into a list named the_data"
   ]
  },
  {
   "cell_type": "code",
   "execution_count": null,
   "metadata": {},
   "outputs": [],
   "source": [
    "the_data = []\n",
    "\n",
    "first_three_rowspan = 1\n",
    "party_rowspan = 1\n",
    "term_rowspan = 1\n",
    "composition_rowspan = 1\n",
    "vp_rowspan = 1\n",
    "elect_rowspan = 1 \n",
    "\n",
    "previous_name = ''\n",
    "previous_constituency = ''\n",
    "previous_start = ''\n",
    "previous_end = ''\n",
    "previous_party = ''\n",
    "previous_term = ''\n",
    "previous_composition = ''\n",
    "previous_vp = ''\n",
    "previous_elect = ''\n",
    "previous_bday = ''\n",
    "                \n",
    "for i, row in enumerate(rows[1:]):\n",
    "    r = row.find('td')\n",
    "    \n",
    "    if (isinstance(r,list) and len(r) > 1):\n",
    "        for j in r:\n",
    "            if j.text == '':\n",
    "                r.remove(j)\n",
    "                \n",
    "        if first_three_rowspan == 1 and party_rowspan == 1 and term_rowspan == 1 and composition_rowspan == 1 and vp_rowspan == 1 and elect_rowspan == 1:\n",
    "            \n",
    "            name = r[0].text\n",
    "            bday_val = inner_url_bday_fetch(r[0])\n",
    "            \n",
    "            constituency = constituency_fetch(r[0])\n",
    "            \n",
    "            start = r[1].text\n",
    "            end = r[2].text\n",
    "            start_date, end_date = extract_year(start,r[1],end,r[2])\n",
    "            \n",
    "            if \"rowspan\" in r[1].attrs:\n",
    "                first_three_rowspan = int(r[1].attrs[\"rowspan\"])\n",
    "                previous_name = name\n",
    "                previous_constituency = constituency\n",
    "                previous_start = start_date\n",
    "                previous_end = end_date\n",
    "                previous_bday = bday_val\n",
    "            \n",
    "            party = r[3].text\n",
    "            if \"rowspan\" in r[3].attrs:\n",
    "                party_rowspan = int(r[3].attrs[\"rowspan\"])\n",
    "                previous_party = party\n",
    "            \n",
    "            term = r[4].text\n",
    "            if \"rowspan\" in r[4].attrs:\n",
    "                term_rowspan = int(r[4].attrs[\"rowspan\"])\n",
    "                previous_term = term\n",
    "\n",
    "            composition = r[5].text\n",
    "            if \"rowspan\" in r[5].attrs:\n",
    "                composition_rowspan = int(r[5].attrs[\"rowspan\"])\n",
    "                previous_composition = composition\n",
    "                \n",
    "            vp = r[6].text\n",
    "            if \"rowspan\" in r[6].attrs:\n",
    "                vp_rowspan = int(r[6].attrs[\"rowspan\"])\n",
    "                previous_vp = vp\n",
    "                \n",
    "            elect = r[7].text\n",
    "            if \"rowspan\" in r[7].attrs:\n",
    "                elect_rowspan = int(r[7].attrs[\"rowspan\"])\n",
    "                previous_elect = elect\n",
    "\n",
    "        elif first_three_rowspan > 1 and party_rowspan == 1 and term_rowspan == 1 and composition_rowspan == 1 and vp_rowspan > 1 and elect_rowspan == 1:\n",
    "            \n",
    "            first_three_rowspan -= 1\n",
    "            vp_rowspan -= 1\n",
    "            \n",
    "            party = r[0].text\n",
    "            if \"rowspan\" in r[0].attrs:\n",
    "                party_rowspan = int(r[0].attrs[\"rowspan\"])\n",
    "                previous_party = party\n",
    "            \n",
    "            term = r[1].text\n",
    "            if \"rowspan\" in r[1].attrs:\n",
    "                term_rowspan = int(r[1].attrs[\"rowspan\"])\n",
    "                previous_term = term\n",
    "            \n",
    "            composition = r[2].text\n",
    "            if \"rowspan\" in r[2].attrs:\n",
    "                composition_rowspan = int(r[2].attrs[\"rowspan\"])\n",
    "                previous_composition = composition\n",
    "            \n",
    "            elect = r[3].text\n",
    "            if \"rowspan\" in r[3].attrs:\n",
    "                elect_rowspan = int(r[3].attrs[\"rowspan\"])\n",
    "                previous_elect = elect\n",
    "                \n",
    "        elif first_three_rowspan > 1 and party_rowspan > 1 and term_rowspan == 1 and composition_rowspan > 1 and vp_rowspan == 1 and elect_rowspan == 1:\n",
    "                        \n",
    "            first_three_rowspan -= 1\n",
    "            party_rowspan -= 1\n",
    "            composition_rowspan -= 1\n",
    "            \n",
    "            term = r[0].text\n",
    "            if \"rowspan\" in r[0].attrs:\n",
    "                term_rowspan = int(r[0].attrs[\"rowspan\"])\n",
    "                previous_term = term\n",
    "                \n",
    "            vp = r[1].text\n",
    "            if \"rowspan\" in r[1].attrs:\n",
    "                vp_rowspan = int(r[1].attrs[\"rowspan\"])\n",
    "                previous_vp = vp\n",
    "                \n",
    "            elect = r[2].text\n",
    "            if \"rowspan\" in r[2].attrs:\n",
    "                elect_rowspan = int(r[2].attrs[\"rowspan\"])\n",
    "                previous_elect = elect\n",
    "        \n",
    "        elif first_three_rowspan > 1 and party_rowspan > 1 and term_rowspan == 1 and composition_rowspan > 1 and vp_rowspan > 1 and elect_rowspan == 1:\n",
    "            \n",
    "            first_three_rowspan -= 1\n",
    "            party_rowspan -= 1\n",
    "            composition_rowspan -= 1\n",
    "            vp_rowspan -= 1\n",
    "            \n",
    "            term = r[0].text\n",
    "            if \"rowspan\" in r[0].attrs:\n",
    "                term_rowspan = int(r[0].attrs[\"rowspan\"])\n",
    "                previous_term = term\n",
    "            \n",
    "            elect = r[1].text\n",
    "            if \"rowspan\" in r[1].attrs:\n",
    "                elect_rowspan = int(r[1].attrs[\"rowspan\"])\n",
    "                previous_elect = elect\n",
    "                  \n",
    "        elif first_three_rowspan > 1 and party_rowspan > 1 and term_rowspan == 1 and composition_rowspan > 1 and vp_rowspan > 1 and elect_rowspan > 1:\n",
    "            \n",
    "            first_three_rowspan -= 1\n",
    "            party_rowspan -= 1\n",
    "            composition_rowspan -= 1\n",
    "            vp_rowspan -= 1\n",
    "            elect_rowspan -= 1\n",
    "            \n",
    "            term = r[0].text\n",
    "            if \"rowspan\" in r[0].attrs:\n",
    "                term_rowspan = int(r[0].attrs[\"rowspan\"])\n",
    "                previous_term = term\n",
    "        \n",
    "        elif first_three_rowspan > 1 and party_rowspan > 1 and term_rowspan == 1 and composition_rowspan == 1 and vp_rowspan > 1 and elect_rowspan == 1:\n",
    "            \n",
    "            first_three_rowspan -= 1\n",
    "            party_rowspan -= 1\n",
    "            vp_rowspan -= 1\n",
    "            \n",
    "            term = r[0].text\n",
    "            if \"rowspan\" in r[0].attrs:\n",
    "                term_rowspan = int(r[0].attrs[\"rowspan\"])\n",
    "                previous_term = term\n",
    "                \n",
    "            composition = r[1].text\n",
    "            if \"rowspan\" in r[1].attrs:\n",
    "                composition_rowspan = int(r[1].attrs[\"rowspan\"])\n",
    "                previous_composition = composition\n",
    "                \n",
    "            elect = r[2].text\n",
    "            if \"rowspan\" in r[2].attrs:\n",
    "                elect_rowspan = int(r[2].attrs[\"rowspan\"])\n",
    "                previous_elect = elect\n",
    "            \n",
    "        elif first_three_rowspan > 1 and party_rowspan > 1 and term_rowspan == 1 and composition_rowspan == 1 and vp_rowspan == 1 and elect_rowspan == 1:\n",
    "            \n",
    "            first_three_rowspan -= 1\n",
    "            party_rowspan -= 1\n",
    "                      \n",
    "            term = r[0].text\n",
    "            if \"rowspan\" in r[0].attrs:\n",
    "                term_rowspan = int(r[0].attrs[\"rowspan\"])\n",
    "                previous_term = term\n",
    "                \n",
    "            composition = r[1].text\n",
    "            if \"rowspan\" in r[1].attrs:\n",
    "                composition_rowspan = int(r[1].attrs[\"rowspan\"])\n",
    "                previous_composition = composition\n",
    "                \n",
    "            vp = r[2].text\n",
    "            if \"rowspan\" in r[2].attrs:\n",
    "                vp_rowspan = int(r[2].attrs[\"rowspan\"])\n",
    "                previous_vp = vp\n",
    "                \n",
    "            elect = r[3].text\n",
    "            if \"rowspan\" in r[3].attrs:\n",
    "                elect_rowspan = int(r[3].attrs[\"rowspan\"])\n",
    "                previous_elect = elect\n",
    "            \n",
    "        elif first_three_rowspan == 1 and party_rowspan == 1 and term_rowspan == 1 and composition_rowspan == 1 and vp_rowspan == 1 and elect_rowspan > 1:\n",
    "            \n",
    "            elect_rowspan -= 1\n",
    "            \n",
    "            name = r[0].text\n",
    "            bday_val = inner_url_bday_fetch(r[0])\n",
    "            \n",
    "            constituency = constituency_fetch(r[0])\n",
    "            \n",
    "            start = r[1].text\n",
    "            end = r[2].text       \n",
    "            start_date, end_date = extract_year(start,r[1],end,r[2])  \n",
    "            \n",
    "            if \"rowspan\" in r[1].attrs:\n",
    "                first_three_rowspan = int(r[1].attrs[\"rowspan\"])\n",
    "                previous_name = name\n",
    "                previous_constituency = constituency\n",
    "                previous_start = start_date\n",
    "                previous_end = end_date\n",
    "                previous_bday = bday_val\n",
    "            \n",
    "            party = r[3].text\n",
    "            if \"rowspan\" in r[3].attrs:\n",
    "                party_rowspan = int(r[3].attrs[\"rowspan\"])\n",
    "                previous_party = party\n",
    "            \n",
    "            term = r[4].text\n",
    "            if \"rowspan\" in r[4].attrs:\n",
    "                term_rowspan = int(r[4].attrs[\"rowspan\"])\n",
    "                previous_term = term\n",
    "\n",
    "            composition = r[5].text\n",
    "            if \"rowspan\" in r[5].attrs:\n",
    "                composition_rowspan = int(r[5].attrs[\"rowspan\"])\n",
    "                previous_composition = composition\n",
    "                \n",
    "            vp = r[6].text\n",
    "            if \"rowspan\" in r[6].attrs:\n",
    "                vp_rowspan = int(r[6].attrs[\"rowspan\"])\n",
    "                previous_vp = vp\n",
    "                   \n",
    "        elif first_three_rowspan == 1 and party_rowspan == 1 and term_rowspan == 1 and composition_rowspan == 1 and vp_rowspan > 1 and elect_rowspan > 1:\n",
    "            \n",
    "            vp_rowspan -= 1\n",
    "            elect_rowspan -= 1\n",
    "            \n",
    "            name = r[0].text\n",
    "            bday_val = inner_url_bday_fetch(r[0])\n",
    "            \n",
    "            constituency = constituency_fetch(r[0])\n",
    "            \n",
    "            start = r[1].text\n",
    "            end = r[2].text\n",
    "            \n",
    "            start_date, end_date = extract_year(start,r[1],end,r[2])\n",
    "            \n",
    "            if \"rowspan\" in r[1].attrs:\n",
    "                first_three_rowspan = int(r[1].attrs[\"rowspan\"])\n",
    "                previous_name = name\n",
    "                previous_constituency = constituency\n",
    "                previous_start = start_date\n",
    "                previous_end = end_date\n",
    "                previous_bday = bday_val\n",
    "            \n",
    "            party = r[3].text\n",
    "            if \"rowspan\" in r[3].attrs:\n",
    "                party_rowspan = int(r[3].attrs[\"rowspan\"])\n",
    "                previous_party = party\n",
    "            \n",
    "            term = r[4].text\n",
    "            if \"rowspan\" in r[4].attrs:\n",
    "                term_rowspan = int(r[4].attrs[\"rowspan\"])\n",
    "                previous_term = term\n",
    "\n",
    "            composition = r[5].text\n",
    "            if \"rowspan\" in r[5].attrs:\n",
    "                composition_rowspan = int(r[5].attrs[\"rowspan\"])\n",
    "                previous_composition = composition\n",
    "            \n",
    "        elif first_three_rowspan > 1 and party_rowspan > 1 and term_rowspan > 1 and composition_rowspan > 1 and vp_rowspan == 1 and elect_rowspan > 1:\n",
    "            \n",
    "            first_three_rowspan -= 1\n",
    "            party_rowspan -= 1\n",
    "            term_rowspan -= 1\n",
    "            composition_rowspan -= 1\n",
    "            elect_rowspan -= 1\n",
    "            \n",
    "            vp = r[0].text\n",
    "            if \"rowspan\" in r[0].attrs:\n",
    "                vp_rowspan = int(r[0].attrs[\"rowspan\"])\n",
    "                previous_vp = vp\n",
    "        \n",
    "        the_data.append(\n",
    "                    (\n",
    "                        name,\n",
    "                        constituency,\n",
    "                        start_date,\n",
    "                        end_date,\n",
    "                        party,\n",
    "                        term,\n",
    "                        composition,\n",
    "                        vp,\n",
    "                        int(elect),\n",
    "                        bday_val\n",
    "                    )\n",
    "            )\n",
    "    \n",
    "    elif (not isinstance(r,list)):\n",
    "\n",
    "        value = r.text\n",
    "        if len(value) > 0:\n",
    "            r = soup_to_list(value)\n",
    "            \n",
    "            if first_three_rowspan > 1 and party_rowspan > 1 and term_rowspan == 1 and composition_rowspan > 1 and vp_rowspan > 1 and elect_rowspan > 1:\n",
    "                     \n",
    "                first_three_rowspan -= 1\n",
    "                party_rowspan -= 1\n",
    "                composition_rowspan -= 1\n",
    "                vp_rowspan -= 1\n",
    "                elect_rowspan -= 1\n",
    "            \n",
    "                term = r[0]\n",
    "                                \n",
    "            elif first_three_rowspan > 1 and party_rowspan > 1 and term_rowspan > 1 and composition_rowspan > 1 and vp_rowspan == 1 and elect_rowspan > 1:\n",
    "            \n",
    "                first_three_rowspan -= 1\n",
    "                party_rowspan -= 1\n",
    "                term_rowspan -= 1\n",
    "                composition_rowspan -= 1\n",
    "                elect_rowspan -= 1\n",
    "            \n",
    "                vp = r[0]\n",
    "       \n",
    "            the_data.append(\n",
    "                    (\n",
    "                        name,\n",
    "                        constituency,\n",
    "                        start_date,\n",
    "                        end_date,\n",
    "                        party,\n",
    "                        term,\n",
    "                        composition,\n",
    "                        vp,\n",
    "                        int(elect),\n",
    "                        bday_val\n",
    "                    )\n",
    "            )"
   ]
  },
  {
   "cell_type": "code",
   "execution_count": null,
   "metadata": {},
   "outputs": [],
   "source": [
    "del the_data[36]\n",
    "del the_data[-2]"
   ]
  },
  {
   "cell_type": "markdown",
   "metadata": {},
   "source": [
    "### Database configuration"
   ]
  },
  {
   "cell_type": "code",
   "execution_count": null,
   "metadata": {},
   "outputs": [],
   "source": [
    "config = {\n",
    "        'user' : 'taoiuser',\n",
    "        'password': 'taoipasswd',\n",
    "        'host' : '127.0.0.1',\n",
    "        'database' : 'taoiseachDB'\n",
    "}"
   ]
  },
  {
   "cell_type": "markdown",
   "metadata": {},
   "source": [
    "### Inserting values into database table"
   ]
  },
  {
   "cell_type": "code",
   "execution_count": null,
   "metadata": {},
   "outputs": [],
   "source": [
    "with DBcm.UseDatabase(config) as cursor:\n",
    "    SQL = \"\"\"INSERT INTO taoiseach (Name,Constituency,Start_Date,End_Date,Party,Term,Council,Vice_President,Elected,DOB) \n",
    "             VALUES (%s,%s,%s,%s,%s,%s,%s,%s,%s,%s)\"\"\"\n",
    "    cursor.executemany(SQL,the_data)"
   ]
  },
  {
   "cell_type": "markdown",
   "metadata": {},
   "source": [
    "### Provide a list of constituencies in Ireland which have produced a Taoiseach"
   ]
  },
  {
   "cell_type": "code",
   "execution_count": null,
   "metadata": {},
   "outputs": [],
   "source": [
    "with DBcm.UseDatabase(config) as cursor:\n",
    "    SQL = \"\"\" SELECT DISTINCT(Constituency) FROM taoiseach \"\"\"\n",
    "    cursor.execute(SQL)\n",
    "    distinct_constituencies = cursor.fetchall()\n",
    "    \n",
    "print (distinct_constituencies)"
   ]
  },
  {
   "cell_type": "markdown",
   "metadata": {},
   "source": [
    "### Which political party has produced the most individual Taoiseach?"
   ]
  },
  {
   "cell_type": "code",
   "execution_count": null,
   "metadata": {},
   "outputs": [],
   "source": [
    "with DBcm.UseDatabase(config) as cursor:\n",
    "    SQL = \"\"\" SELECT Party FROM taoiseach GROUP BY(Party) ORDER BY COUNT(*) DESC LIMIT 1 \"\"\"\n",
    "    cursor.execute(SQL)\n",
    "    party_name = cursor.fetchall()\n",
    "    \n",
    "print (party_name)"
   ]
  },
  {
   "cell_type": "markdown",
   "metadata": {},
   "source": [
    "### Provide the list of names for those politicians who previously held the position of “Vice President” or “Tánaiste” prior to becoming Taoiseach."
   ]
  },
  {
   "cell_type": "code",
   "execution_count": null,
   "metadata": {},
   "outputs": [],
   "source": [
    "with DBcm.UseDatabase(config) as cursor:\n",
    "    SQL = \"\"\" SELECT DISTINCT(Name) FROM taoiseach t1 WHERE EXISTS (SELECT 1\n",
    "                                                                    FROM taoiseach t2\n",
    "                                                                    WHERE t2.Vice_President = t1.Name) \"\"\"\n",
    "    cursor.execute(SQL)\n",
    "    Taoiseach_and_VP = cursor.fetchall()\n",
    "\n",
    "print (Taoiseach_and_VP)"
   ]
  },
  {
   "cell_type": "markdown",
   "metadata": {},
   "source": [
    "### Which political party held the office of Taoiseach for the longest amount of overall time, and for how long (in years, months, and days)?"
   ]
  },
  {
   "cell_type": "code",
   "execution_count": null,
   "metadata": {},
   "outputs": [],
   "source": [
    "def longest_overall_term(the_data):\n",
    "    \n",
    "    period = {}\n",
    "    distinct_party = {a[5] for a in the_data}\n",
    "    \n",
    "    for i in distinct_party:\n",
    "        year_sum = 0\n",
    "        month_sum = 0\n",
    "        day_sum = 0\n",
    "        for a in the_data:\n",
    "            if i == a[5]:\n",
    "                diff = relativedelta.relativedelta(a[4], a[3])\n",
    "            \n",
    "                year_sum += diff.years\n",
    "                month_sum += diff.months\n",
    "                day_sum += diff.days\n",
    "            \n",
    "        period[i] = [year_sum,month_sum,day_sum] \n",
    "\n",
    "    longest_term = max(period.values())\n",
    "        \n",
    "    for k,v in period.items():\n",
    "        if v == longest_term:\n",
    "            party_name = k\n",
    "\n",
    "    value = f\"The longest overall term is of {longest_term[0]} years, {longest_term[1]} months, {longest_term[2]} days held by {party_name}.\"\n",
    "    \n",
    "    return value"
   ]
  },
  {
   "cell_type": "code",
   "execution_count": null,
   "metadata": {},
   "outputs": [],
   "source": [
    "with DBcm.UseDatabase(config) as cursor:\n",
    "    SQL = \"\"\" SELECT * FROM taoiseach \"\"\"\n",
    "    cursor.execute(SQL)\n",
    "    all_data = cursor.fetchall()\n",
    "    \n",
    "longest_overall_term(all_data)"
   ]
  },
  {
   "cell_type": "markdown",
   "metadata": {},
   "source": [
    "### Which individual politician held the office of Taoiseach for the longest amount of uninterrupted time, and for how long (in years, months, and days)?\n",
    "\n",
    "### Which individual politician held the office of Taoiseach for the shortest amount of time, and for how long (in years, months, and days)?"
   ]
  },
  {
   "cell_type": "code",
   "execution_count": null,
   "metadata": {},
   "outputs": [],
   "source": [
    "def term_of_politician(the_data):\n",
    "    \n",
    "    uninterrupted_period = {}\n",
    "    ordered_set = OrderedSet()    \n",
    "\n",
    "    for i in the_data:\n",
    "        a = (i[1],i[2],i[3],i[4])\n",
    "        ordered_set.add(a)\n",
    "\n",
    "    for n,i in enumerate(list(ordered_set)):\n",
    "    \n",
    "        current_val = i[0]    \n",
    "        if (ordered_set[n-1][0] == current_val):\n",
    "         \n",
    "            diff = relativedelta.relativedelta(ordered_set[n][3], ordered_set[n][2])\n",
    "        \n",
    "            year_sum += diff.years\n",
    "            month_sum += diff.months\n",
    "            day_sum += diff.days\n",
    "            \n",
    "            uninterrupted_period[current_val + str(n)] = [year_sum,month_sum,day_sum] \n",
    "            \n",
    "        else:\n",
    "        \n",
    "            year_sum = 0\n",
    "            month_sum = 0\n",
    "            day_sum = 0\n",
    "            \n",
    "            diff = relativedelta.relativedelta(ordered_set[n][3], ordered_set[n][2])\n",
    "            year_sum += diff.years\n",
    "            month_sum += diff.months\n",
    "            day_sum += diff.days\n",
    "            \n",
    "            uninterrupted_period[current_val + str(n)] = [year_sum,month_sum,day_sum]\n",
    "            \n",
    "        longest_term = max(uninterrupted_period.values())\n",
    "        shortest_term = min(uninterrupted_period.values())\n",
    "        \n",
    "        for k,v in uninterrupted_period.items():\n",
    "            if v == longest_term:\n",
    "                plolitician_longest_term = re.findall(r'[\\D]+',k)[0]\n",
    "                \n",
    "            elif v == shortest_term:\n",
    "                plolitician_shortest_term = re.findall(r'[\\D]+',k)[0]\n",
    "                \n",
    "    value1 = f\"The longest uninterrupted term is of {longest_term[0]} years, {longest_term[1]} months, {longest_term[2]} days was held by {plolitician_longest_term}.\"\n",
    "    value2 = f\"The shortest term is {shortest_term[0]} years, {shortest_term[1]} months, {shortest_term[2]} days was held by {plolitician_shortest_term}.\"\n",
    "    \n",
    "    return value1,value2"
   ]
  },
  {
   "cell_type": "code",
   "execution_count": null,
   "metadata": {},
   "outputs": [],
   "source": [
    "term_of_politician(all_data)"
   ]
  },
  {
   "cell_type": "markdown",
   "metadata": {},
   "source": [
    "### Which political party has held the office of Taoiseach for the largest number of Dáils?"
   ]
  },
  {
   "cell_type": "code",
   "execution_count": null,
   "metadata": {},
   "outputs": [],
   "source": [
    "with DBcm.UseDatabase(config) as cursor:\n",
    "    SQL = \"\"\" SELECT Party FROM taoiseach ORDER BY Elected DESC LIMIT 1 \"\"\"\n",
    "    cursor.execute(SQL)\n",
    "    largest_dail_party = cursor.fetchall()\n",
    "    \n",
    "print(largest_dail_party)"
   ]
  },
  {
   "cell_type": "markdown",
   "metadata": {},
   "source": [
    "### Which individual politician has held the office of Taoiseach for the most number of Dáils?"
   ]
  },
  {
   "cell_type": "code",
   "execution_count": null,
   "metadata": {},
   "outputs": [],
   "source": [
    "with DBcm.UseDatabase(config) as cursor:\n",
    "    SQL = \"\"\" SELECT Name FROM taoiseach ORDER BY Elected DESC LIMIT 1 \"\"\"\n",
    "    cursor.execute(SQL)\n",
    "    largest_dail_politician = cursor.fetchall()\n",
    "    \n",
    "print(largest_dail_politician)"
   ]
  },
  {
   "cell_type": "markdown",
   "metadata": {},
   "source": [
    "### What age was each Taoiseach on the day they assumed office? "
   ]
  },
  {
   "cell_type": "code",
   "execution_count": null,
   "metadata": {},
   "outputs": [],
   "source": [
    "data = OrderedSet( [( i[1] ,relativedelta.relativedelta(i[3],i[-1]).years ) for i in all_data] )\n",
    "\n",
    "for i in data:\n",
    "    print (f\"{i[0]} was {i[1]} on the day he assumed office\")"
   ]
  },
  {
   "cell_type": "markdown",
   "metadata": {},
   "source": [
    "### On the last day of their term of office, which politician was the oldest?"
   ]
  },
  {
   "cell_type": "code",
   "execution_count": null,
   "metadata": {},
   "outputs": [],
   "source": [
    "def max_ageed_politician_on_last_day(the_data):\n",
    "    \n",
    "    politician_age_on_last_day = {}\n",
    "    data = OrderedSet( [( i[1] ,relativedelta.relativedelta(i[4],i[-1]).years ) for i in the_data] )\n",
    "   \n",
    "    for n,i in enumerate(data):\n",
    "        politician_age_on_last_day[i[0]+str(n)] = i[1]\n",
    "        \n",
    "    max_age = max(politician_age_on_last_day.values())\n",
    "    \n",
    "    for k,v in politician_age_on_last_day.items():\n",
    "        if v == max_age:\n",
    "            name = re.findall(r'[\\D]+',k)[0]\n",
    "            \n",
    "    value = f\"The oldest aged ploitician on the last day of his term was {name} aged at {max_age} years\"\n",
    "    \n",
    "    return value\n",
    "    "
   ]
  },
  {
   "cell_type": "code",
   "execution_count": null,
   "metadata": {},
   "outputs": [],
   "source": [
    "max_ageed_politician_on_last_day(all_data)"
   ]
  },
  {
   "cell_type": "markdown",
   "metadata": {},
   "source": [
    "### In your view, and based on statistics calculated from your scraped data, which Irish political party is the most successful?  Show and describe your calculations"
   ]
  },
  {
   "cell_type": "markdown",
   "metadata": {},
   "source": [
    "In my view the most successful party has to be the one which has been in the office of Taoiseach for the longest duration \n",
    "of time. This is calculated from the function <b>longest_overall_term</b>, defined above.\n",
    "   "
   ]
  }
 ],
 "metadata": {
  "kernelspec": {
   "display_name": "Python 3",
   "language": "python",
   "name": "python3"
  },
  "language_info": {
   "codemirror_mode": {
    "name": "ipython",
    "version": 3
   },
   "file_extension": ".py",
   "mimetype": "text/x-python",
   "name": "python",
   "nbconvert_exporter": "python",
   "pygments_lexer": "ipython3",
   "version": "3.7.3"
  }
 },
 "nbformat": 4,
 "nbformat_minor": 2
}
